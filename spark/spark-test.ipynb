{
 "cells": [
  {
   "cell_type": "code",
   "execution_count": 1,
   "metadata": {},
   "outputs": [],
   "source": [
    "import pyspark\n",
    "from pyspark.sql import SparkSession"
   ]
  },
  {
   "cell_type": "code",
   "execution_count": 2,
   "metadata": {},
   "outputs": [],
   "source": [
    "spark = SparkSession.builder \\\n",
    "                    .master('local[*]') \\\n",
    "                    .appName('test') \\\n",
    "                    .getOrCreate()"
   ]
  },
  {
   "cell_type": "code",
   "execution_count": 3,
   "metadata": {},
   "outputs": [],
   "source": [
    "df = spark.read.option(\"header\",\"true\").csv('taxi+_zone_lookup.csv')"
   ]
  },
  {
   "cell_type": "code",
   "execution_count": 4,
   "metadata": {},
   "outputs": [
    {
     "name": "stdout",
     "output_type": "stream",
     "text": [
      "+----------+-------------+--------------------+------------+\n",
      "|LocationID|      Borough|                Zone|service_zone|\n",
      "+----------+-------------+--------------------+------------+\n",
      "|         1|          EWR|      Newark Airport|         EWR|\n",
      "|         2|       Queens|         Jamaica Bay|   Boro Zone|\n",
      "|         3|        Bronx|Allerton/Pelham G...|   Boro Zone|\n",
      "|         4|    Manhattan|       Alphabet City| Yellow Zone|\n",
      "|         5|Staten Island|       Arden Heights|   Boro Zone|\n",
      "|         6|Staten Island|Arrochar/Fort Wad...|   Boro Zone|\n",
      "|         7|       Queens|             Astoria|   Boro Zone|\n",
      "|         8|       Queens|        Astoria Park|   Boro Zone|\n",
      "|         9|       Queens|          Auburndale|   Boro Zone|\n",
      "|        10|       Queens|        Baisley Park|   Boro Zone|\n",
      "|        11|     Brooklyn|          Bath Beach|   Boro Zone|\n",
      "|        12|    Manhattan|        Battery Park| Yellow Zone|\n",
      "|        13|    Manhattan|   Battery Park City| Yellow Zone|\n",
      "|        14|     Brooklyn|           Bay Ridge|   Boro Zone|\n",
      "|        15|       Queens|Bay Terrace/Fort ...|   Boro Zone|\n",
      "|        16|       Queens|             Bayside|   Boro Zone|\n",
      "|        17|     Brooklyn|             Bedford|   Boro Zone|\n",
      "|        18|        Bronx|        Bedford Park|   Boro Zone|\n",
      "|        19|       Queens|           Bellerose|   Boro Zone|\n",
      "|        20|        Bronx|             Belmont|   Boro Zone|\n",
      "+----------+-------------+--------------------+------------+\n",
      "only showing top 20 rows\n",
      "\n"
     ]
    }
   ],
   "source": [
    "df.show()"
   ]
  },
  {
   "cell_type": "code",
   "execution_count": 5,
   "metadata": {},
   "outputs": [],
   "source": [
    "df = spark.read.parquet('fhvhv_tripdata_2021-01.parquet')"
   ]
  },
  {
   "cell_type": "code",
   "execution_count": 6,
   "metadata": {},
   "outputs": [
    {
     "data": {
      "text/plain": [
       "StructType([StructField('hvfhs_license_num', StringType(), True), StructField('dispatching_base_num', StringType(), True), StructField('originating_base_num', StringType(), True), StructField('request_datetime', TimestampNTZType(), True), StructField('on_scene_datetime', TimestampNTZType(), True), StructField('pickup_datetime', TimestampNTZType(), True), StructField('dropoff_datetime', TimestampNTZType(), True), StructField('PULocationID', LongType(), True), StructField('DOLocationID', LongType(), True), StructField('trip_miles', DoubleType(), True), StructField('trip_time', LongType(), True), StructField('base_passenger_fare', DoubleType(), True), StructField('tolls', DoubleType(), True), StructField('bcf', DoubleType(), True), StructField('sales_tax', DoubleType(), True), StructField('congestion_surcharge', DoubleType(), True), StructField('airport_fee', DoubleType(), True), StructField('tips', DoubleType(), True), StructField('driver_pay', DoubleType(), True), StructField('shared_request_flag', StringType(), True), StructField('shared_match_flag', StringType(), True), StructField('access_a_ride_flag', StringType(), True), StructField('wav_request_flag', StringType(), True), StructField('wav_match_flag', StringType(), True)])"
      ]
     },
     "execution_count": 6,
     "metadata": {},
     "output_type": "execute_result"
    }
   ],
   "source": [
    "df.schema"
   ]
  },
  {
   "cell_type": "code",
   "execution_count": 7,
   "metadata": {},
   "outputs": [],
   "source": [
    "from pyspark.sql import types"
   ]
  },
  {
   "cell_type": "code",
   "execution_count": 8,
   "metadata": {},
   "outputs": [],
   "source": [
    "schema = types.StructType([\n",
    "    types.StructField('hvfhs_license_num', types.StringType(), True),\n",
    "    types.StructField('dispatching_base_num', types.StringType(), True),\n",
    "    types.StructField('originating_base_num', types.StringType(), True),\n",
    "    types.StructField('request_datetime', types.TimestampNTZType(), True),\n",
    "    types.StructField('on_scene_datetime', types.TimestampNTZType(), True),\n",
    "    types.StructField('pickup_datetime', types.TimestampNTZType(), True),\n",
    "    types.StructField('dropoff_datetime', types.TimestampNTZType(), True),\n",
    "    types.StructField('PULocationID', types.IntegerType(), True),\n",
    "    types.StructField('DOLocationID', types.IntegerType(), True),\n",
    "    types.StructField('trip_miles', types.DoubleType(), True),\n",
    "    types.StructField('trip_time', types.LongType(), True),\n",
    "    types.StructField('base_passenger_fare', types.DoubleType(), True),\n",
    "    types.StructField('tolls', types.DoubleType(), True),\n",
    "    types.StructField('bcf', types.DoubleType(), True),\n",
    "    types.StructField('sales_tax', types.DoubleType(), True),\n",
    "    types.StructField('congestion_surcharge', types.DoubleType(), True),\n",
    "    types.StructField('airport_fee', types.DoubleType(), True),\n",
    "    types.StructField('tips', types.DoubleType(), True),\n",
    "    types.StructField('driver_pay', types.DoubleType(), True),\n",
    "    types.StructField('shared_request_flag', types.StringType(), True),\n",
    "    types.StructField('shared_match_flag', types.StringType(), True),\n",
    "    types.StructField('access_a_ride_flag', types.StringType(), True),\n",
    "    types.StructField('wav_request_flag', types.StringType(), True),\n",
    "    types.StructField('wav_match_flag', types.StringType(), True)\n",
    "])"
   ]
  },
  {
   "cell_type": "code",
   "execution_count": 9,
   "metadata": {},
   "outputs": [],
   "source": [
    "spark.conf.set(\"spark.sql.parquet.enableVectorizedReader\",\"false\")\n",
    "spark.conf.set(\"spark.sql.parquet.writeLegacyFormat\",\"true\")"
   ]
  },
  {
   "cell_type": "code",
   "execution_count": 11,
   "metadata": {},
   "outputs": [],
   "source": [
    "df = spark.read.schema(schema).parquet('fhvhv_tripdata_2021-01.parquet')"
   ]
  },
  {
   "cell_type": "code",
   "execution_count": 39,
   "metadata": {},
   "outputs": [
    {
     "data": {
      "text/plain": [
       "StructType([StructField('hvfhs_license_num', StringType(), True), StructField('dispatching_base_num', StringType(), True), StructField('originating_base_num', StringType(), True), StructField('request_datetime', TimestampNTZType(), True), StructField('on_scene_datetime', TimestampNTZType(), True), StructField('pickup_datetime', TimestampNTZType(), True), StructField('dropoff_datetime', TimestampNTZType(), True), StructField('PULocationID', IntegerType(), True), StructField('DOLocationID', IntegerType(), True), StructField('trip_miles', DoubleType(), True), StructField('trip_time', LongType(), True), StructField('base_passenger_fare', DoubleType(), True), StructField('tolls', DoubleType(), True), StructField('bcf', DoubleType(), True), StructField('sales_tax', DoubleType(), True), StructField('congestion_surcharge', DoubleType(), True), StructField('airport_fee', DoubleType(), True), StructField('tips', DoubleType(), True), StructField('driver_pay', DoubleType(), True), StructField('shared_request_flag', StringType(), True), StructField('shared_match_flag', StringType(), True), StructField('access_a_ride_flag', StringType(), True), StructField('wav_request_flag', StringType(), True), StructField('wav_match_flag', StringType(), True)])"
      ]
     },
     "execution_count": 39,
     "metadata": {},
     "output_type": "execute_result"
    }
   ],
   "source": [
    "df.schema"
   ]
  },
  {
   "cell_type": "code",
   "execution_count": 10,
   "metadata": {},
   "outputs": [],
   "source": [
    "df = df.repartition(24)"
   ]
  },
  {
   "cell_type": "code",
   "execution_count": 16,
   "metadata": {},
   "outputs": [],
   "source": [
    "df.write.parquet('fhvhv/2021/01/')"
   ]
  },
  {
   "cell_type": "code",
   "execution_count": 11,
   "metadata": {},
   "outputs": [],
   "source": [
    "df = spark.read.parquet('fhvhv/2021/01/')"
   ]
  },
  {
   "cell_type": "code",
   "execution_count": 12,
   "metadata": {},
   "outputs": [
    {
     "data": {
      "text/plain": [
       "DataFrame[hvfhs_license_num: string, dispatching_base_num: string, originating_base_num: string, request_datetime: timestamp_ntz, on_scene_datetime: timestamp_ntz, pickup_datetime: timestamp_ntz, dropoff_datetime: timestamp_ntz, PULocationID: bigint, DOLocationID: bigint, trip_miles: double, trip_time: bigint, base_passenger_fare: double, tolls: double, bcf: double, sales_tax: double, congestion_surcharge: double, airport_fee: double, tips: double, driver_pay: double, shared_request_flag: string, shared_match_flag: string, access_a_ride_flag: string, wav_request_flag: string, wav_match_flag: string]"
      ]
     },
     "execution_count": 12,
     "metadata": {},
     "output_type": "execute_result"
    }
   ],
   "source": [
    "df"
   ]
  },
  {
   "cell_type": "code",
   "execution_count": 13,
   "metadata": {},
   "outputs": [
    {
     "name": "stdout",
     "output_type": "stream",
     "text": [
      "+-----------------+--------------------+--------------------+-------------------+-------------------+-------------------+-------------------+------------+------------+----------+---------+-------------------+-----+----+---------+--------------------+-----------+----+----------+-------------------+-----------------+------------------+----------------+--------------+\n",
      "|hvfhs_license_num|dispatching_base_num|originating_base_num|   request_datetime|  on_scene_datetime|    pickup_datetime|   dropoff_datetime|PULocationID|DOLocationID|trip_miles|trip_time|base_passenger_fare|tolls| bcf|sales_tax|congestion_surcharge|airport_fee|tips|driver_pay|shared_request_flag|shared_match_flag|access_a_ride_flag|wav_request_flag|wav_match_flag|\n",
      "+-----------------+--------------------+--------------------+-------------------+-------------------+-------------------+-------------------+------------+------------+----------+---------+-------------------+-----+----+---------+--------------------+-----------+----+----------+-------------------+-----------------+------------------+----------------+--------------+\n",
      "|           HV0003|              B02764|              B02764|2021-01-05 12:38:44|2021-01-05 12:41:47|2021-01-05 12:42:09|2021-01-05 13:04:44|          22|         261|      9.19|     1355|              26.72| 6.12|0.99|     2.91|                2.75|       NULL| 0.0|     32.32|                  N|                N|                  |               N|             Y|\n",
      "|           HV0003|              B02867|              B02867|2021-01-02 14:13:45|2021-01-02 14:15:55|2021-01-02 14:16:06|2021-01-02 14:22:35|         189|         181|      1.34|      389|                8.7|  0.0|0.26|     0.77|                 0.0|       NULL| 0.0|      6.19|                  N|                N|                  |               N|             N|\n",
      "|           HV0003|              B02765|              B02765|2021-01-06 08:23:44|2021-01-06 08:24:46|2021-01-06 08:26:45|2021-01-06 08:53:00|          56|          75|     11.14|     1575|              29.55| 6.12|1.07|     3.17|                 0.0|       NULL| 0.0|     25.47|                  N|                N|                  |               N|             N|\n",
      "|           HV0003|              B02765|              B02765|2021-01-28 01:04:01|2021-01-28 01:07:19|2021-01-28 01:07:33|2021-01-28 01:17:39|         169|          69|       1.6|      606|               7.61|  0.0|0.23|     0.68|                 0.0|       NULL| 0.0|      6.83|                  N|                N|                  |               N|             N|\n",
      "|           HV0003|              B02875|              B02875|2021-01-17 08:57:05|2021-01-17 08:58:11|2021-01-17 09:00:11|2021-01-17 09:13:05|         169|          69|      1.94|      774|              11.44|  0.0|0.34|     1.02|                 0.0|       NULL| 0.0|      8.61|                  N|                N|                  |               N|             N|\n",
      "|           HV0005|              B02510|                NULL|2021-01-29 22:41:47|               NULL|2021-01-29 22:46:05|2021-01-29 22:57:27|         198|          37|     2.018|      682|                8.8|  0.0|0.26|     0.78|                 0.0|       NULL| 3.0|      7.96|                  N|                N|                 N|               N|             N|\n",
      "|           HV0003|              B02764|              B02764|2021-01-14 22:56:00|2021-01-14 22:58:14|2021-01-14 22:58:21|2021-01-14 23:12:56|         164|         145|      3.18|      875|              26.18| 6.12|0.97|     2.87|                2.75|       NULL| 0.0|     20.94|                  N|                N|                  |               N|             N|\n",
      "|           HV0005|              B02510|                NULL|2021-01-10 15:36:43|               NULL|2021-01-10 15:46:48|2021-01-10 15:58:37|          58|         213|     3.068|      709|              14.09|  0.0|0.42|     1.25|                 0.0|       NULL| 0.0|      9.34|                  N|                N|                 N|               N|             N|\n",
      "|           HV0005|              B02510|                NULL|2021-01-21 05:40:31|               NULL|2021-01-21 05:45:15|2021-01-21 06:01:27|          51|         174|     4.361|      972|               18.7|  0.0|0.56|     1.66|                 0.0|       NULL| 0.0|     12.97|                  N|                N|                 N|               N|             N|\n",
      "|           HV0003|              B02395|              B02395|2021-01-12 14:28:47|2021-01-12 14:34:19|2021-01-12 14:34:31|2021-01-12 15:01:36|         169|         250|       4.7|     1625|              14.29|  0.0| 0.0|      0.0|                 0.0|       NULL| 0.0|     18.78|                  N|                N|                  |               N|             N|\n",
      "|           HV0003|              B02887|              B02887|2021-01-06 14:22:03|2021-01-06 14:24:36|2021-01-06 14:26:33|2021-01-06 14:44:08|          74|         152|      2.24|     1055|              14.62|  0.0|0.44|      1.3|                 0.0|       NULL| 0.0|      11.3|                  N|                N|                  |               N|             N|\n",
      "|           HV0005|              B02510|                NULL|2021-01-16 04:48:13|               NULL|2021-01-16 04:55:07|2021-01-16 05:07:59|         145|         138|     7.957|      772|              21.64| 0.22|0.66|     1.94|                 0.0|       NULL| 0.0|      15.3|                  N|                N|                 N|               N|             N|\n",
      "|           HV0003|              B02864|              B02864|2021-01-22 03:30:59|2021-01-22 03:33:25|2021-01-22 03:33:31|2021-01-22 03:42:22|          37|          80|      2.31|      531|              11.31|  0.0|0.34|      1.0|                 0.0|       NULL| 0.0|      7.17|                  N|                N|                  |               N|             N|\n",
      "|           HV0003|              B02884|              B02884|2021-01-01 02:00:49|2021-01-01 02:04:27|2021-01-01 02:04:55|2021-01-01 02:11:25|         248|         213|      1.45|      390|               6.24|  0.0|0.37|     0.56|                 0.0|       NULL|2.82|      6.85|                  N|                N|                  |               N|             N|\n",
      "|           HV0003|              B02888|              B02888|2021-01-19 15:33:29|2021-01-19 15:37:06|2021-01-19 15:37:26|2021-01-19 16:02:07|          91|          14|     13.94|     1481|               29.8|  0.0|0.89|     2.64|                 0.0|       NULL|6.66|     27.77|                  N|                N|                  |               N|             N|\n",
      "|           HV0003|              B02765|              B02765|2021-01-05 09:34:30|2021-01-05 09:37:28|2021-01-05 09:37:53|2021-01-05 10:09:26|         236|         255|      9.11|     1893|              33.99|  0.0|1.02|     3.02|                2.75|       NULL| 0.0|     25.89|                  N|                N|                  |               N|             N|\n",
      "|           HV0003|              B02764|              B02764|2021-01-31 18:20:56|2021-01-31 18:24:41|2021-01-31 18:25:52|2021-01-31 18:37:39|         229|         145|      2.76|      707|              12.77|  0.0|0.38|     1.13|                2.75|       NULL| 0.0|      8.97|                  N|                N|                  |               N|             N|\n",
      "|           HV0003|              B02764|              B02764|2021-01-14 21:22:37|2021-01-14 21:25:06|2021-01-14 21:27:06|2021-01-14 21:47:11|         135|         265|     10.34|     1205|              31.38|  0.0|0.94|     2.78|                 0.0|       NULL| 0.0|     23.38|                  N|                N|                  |               N|             N|\n",
      "|           HV0005|              B02510|                NULL|2021-01-30 11:24:00|               NULL|2021-01-30 11:26:32|2021-01-30 11:29:22|          10|          10|      0.49|      170|                7.3|  0.0|0.22|     0.65|                 0.0|       NULL| 0.0|      5.47|                  N|                N|                 N|               N|             N|\n",
      "|           HV0003|              B02871|              B02871|2021-01-12 14:05:52|2021-01-12 14:10:23|2021-01-12 14:10:50|2021-01-12 14:28:44|         210|          89|      3.68|     1074|              31.27|  0.0|0.94|     2.78|                 0.0|       NULL|6.99|     24.06|                  N|                N|                  |               N|             N|\n",
      "+-----------------+--------------------+--------------------+-------------------+-------------------+-------------------+-------------------+------------+------------+----------+---------+-------------------+-----+----+---------+--------------------+-----------+----+----------+-------------------+-----------------+------------------+----------------+--------------+\n",
      "only showing top 20 rows\n",
      "\n"
     ]
    }
   ],
   "source": [
    "df.show()"
   ]
  },
  {
   "cell_type": "code",
   "execution_count": 14,
   "metadata": {},
   "outputs": [
    {
     "name": "stdout",
     "output_type": "stream",
     "text": [
      "root\n",
      " |-- hvfhs_license_num: string (nullable = true)\n",
      " |-- dispatching_base_num: string (nullable = true)\n",
      " |-- originating_base_num: string (nullable = true)\n",
      " |-- request_datetime: timestamp_ntz (nullable = true)\n",
      " |-- on_scene_datetime: timestamp_ntz (nullable = true)\n",
      " |-- pickup_datetime: timestamp_ntz (nullable = true)\n",
      " |-- dropoff_datetime: timestamp_ntz (nullable = true)\n",
      " |-- PULocationID: long (nullable = true)\n",
      " |-- DOLocationID: long (nullable = true)\n",
      " |-- trip_miles: double (nullable = true)\n",
      " |-- trip_time: long (nullable = true)\n",
      " |-- base_passenger_fare: double (nullable = true)\n",
      " |-- tolls: double (nullable = true)\n",
      " |-- bcf: double (nullable = true)\n",
      " |-- sales_tax: double (nullable = true)\n",
      " |-- congestion_surcharge: double (nullable = true)\n",
      " |-- airport_fee: double (nullable = true)\n",
      " |-- tips: double (nullable = true)\n",
      " |-- driver_pay: double (nullable = true)\n",
      " |-- shared_request_flag: string (nullable = true)\n",
      " |-- shared_match_flag: string (nullable = true)\n",
      " |-- access_a_ride_flag: string (nullable = true)\n",
      " |-- wav_request_flag: string (nullable = true)\n",
      " |-- wav_match_flag: string (nullable = true)\n",
      "\n"
     ]
    }
   ],
   "source": [
    "df.printSchema()"
   ]
  },
  {
   "cell_type": "code",
   "execution_count": 15,
   "metadata": {},
   "outputs": [
    {
     "name": "stdout",
     "output_type": "stream",
     "text": [
      "+-------------------+-------------------+------------+------------+-----------------+\n",
      "|    pickup_datetime|   dropoff_datetime|PULocationID|DOLocationID|hvfhs_license_num|\n",
      "+-------------------+-------------------+------------+------------+-----------------+\n",
      "|2021-01-05 12:42:09|2021-01-05 13:04:44|          22|         261|           HV0003|\n",
      "|2021-01-02 14:16:06|2021-01-02 14:22:35|         189|         181|           HV0003|\n",
      "|2021-01-06 08:26:45|2021-01-06 08:53:00|          56|          75|           HV0003|\n",
      "|2021-01-28 01:07:33|2021-01-28 01:17:39|         169|          69|           HV0003|\n",
      "|2021-01-17 09:00:11|2021-01-17 09:13:05|         169|          69|           HV0003|\n",
      "|2021-01-14 22:58:21|2021-01-14 23:12:56|         164|         145|           HV0003|\n",
      "|2021-01-12 14:34:31|2021-01-12 15:01:36|         169|         250|           HV0003|\n",
      "|2021-01-06 14:26:33|2021-01-06 14:44:08|          74|         152|           HV0003|\n",
      "|2021-01-22 03:33:31|2021-01-22 03:42:22|          37|          80|           HV0003|\n",
      "|2021-01-01 02:04:55|2021-01-01 02:11:25|         248|         213|           HV0003|\n",
      "|2021-01-19 15:37:26|2021-01-19 16:02:07|          91|          14|           HV0003|\n",
      "|2021-01-05 09:37:53|2021-01-05 10:09:26|         236|         255|           HV0003|\n",
      "|2021-01-31 18:25:52|2021-01-31 18:37:39|         229|         145|           HV0003|\n",
      "|2021-01-14 21:27:06|2021-01-14 21:47:11|         135|         265|           HV0003|\n",
      "|2021-01-12 14:10:50|2021-01-12 14:28:44|         210|          89|           HV0003|\n",
      "|2021-01-16 12:25:03|2021-01-16 12:29:46|          26|         133|           HV0003|\n",
      "|2021-01-16 13:50:59|2021-01-16 14:05:36|          33|         255|           HV0003|\n",
      "|2021-01-28 18:29:06|2021-01-28 18:37:33|         236|         262|           HV0003|\n",
      "|2021-01-02 01:37:52|2021-01-02 01:44:10|          89|          89|           HV0003|\n",
      "|2021-01-28 13:38:32|2021-01-28 13:47:18|          16|          64|           HV0003|\n",
      "+-------------------+-------------------+------------+------------+-----------------+\n",
      "only showing top 20 rows\n",
      "\n"
     ]
    }
   ],
   "source": [
    "df.select('pickup_datetime', 'dropoff_datetime', 'PULocationID','DOLocationID','hvfhs_license_num').filter(df.hvfhs_license_num == 'HV0003').show()"
   ]
  },
  {
   "cell_type": "code",
   "execution_count": 16,
   "metadata": {},
   "outputs": [],
   "source": [
    "from pyspark.sql import functions as F"
   ]
  },
  {
   "cell_type": "code",
   "execution_count": 23,
   "metadata": {},
   "outputs": [],
   "source": [
    "def crazy_stuff(base_num):\n",
    "    num = int(base_num[1:])\n",
    "    if num % 7 == 0:\n",
    "        return f's/{num:03x}'\n",
    "    else:\n",
    "        return f'e/{num:03x}'"
   ]
  },
  {
   "cell_type": "code",
   "execution_count": 30,
   "metadata": {},
   "outputs": [],
   "source": [
    "crazy_stuff_udf = F.udf(crazy_stuff, returnType=types.StringType())"
   ]
  },
  {
   "cell_type": "code",
   "execution_count": 32,
   "metadata": {},
   "outputs": [
    {
     "name": "stdout",
     "output_type": "stream",
     "text": [
      "+-----------+------------+------------+------------+-----------------+-------+\n",
      "|pickup_date|dropoff_date|PULocationID|DOLocationID|hvfhs_license_num|base_id|\n",
      "+-----------+------------+------------+------------+-----------------+-------+\n",
      "| 2021-01-05|  2021-01-05|          22|         261|           HV0003|  e/acc|\n",
      "| 2021-01-02|  2021-01-02|         189|         181|           HV0003|  e/b33|\n",
      "| 2021-01-06|  2021-01-06|          56|          75|           HV0003|  s/acd|\n",
      "| 2021-01-28|  2021-01-28|         169|          69|           HV0003|  s/acd|\n",
      "| 2021-01-17|  2021-01-17|         169|          69|           HV0003|  e/b3b|\n",
      "| 2021-01-29|  2021-01-29|         198|          37|           HV0005|  e/9ce|\n",
      "| 2021-01-14|  2021-01-14|         164|         145|           HV0003|  e/acc|\n",
      "| 2021-01-10|  2021-01-10|          58|         213|           HV0005|  e/9ce|\n",
      "| 2021-01-21|  2021-01-21|          51|         174|           HV0005|  e/9ce|\n",
      "| 2021-01-12|  2021-01-12|         169|         250|           HV0003|  e/95b|\n",
      "| 2021-01-06|  2021-01-06|          74|         152|           HV0003|  e/b47|\n",
      "| 2021-01-16|  2021-01-16|         145|         138|           HV0005|  e/9ce|\n",
      "| 2021-01-22|  2021-01-22|          37|          80|           HV0003|  e/b30|\n",
      "| 2021-01-01|  2021-01-01|         248|         213|           HV0003|  s/b44|\n",
      "| 2021-01-19|  2021-01-19|          91|          14|           HV0003|  e/b48|\n",
      "| 2021-01-05|  2021-01-05|         236|         255|           HV0003|  s/acd|\n",
      "| 2021-01-31|  2021-01-31|         229|         145|           HV0003|  e/acc|\n",
      "| 2021-01-14|  2021-01-14|         135|         265|           HV0003|  e/acc|\n",
      "| 2021-01-30|  2021-01-30|          10|          10|           HV0005|  e/9ce|\n",
      "| 2021-01-12|  2021-01-12|         210|          89|           HV0003|  e/b37|\n",
      "+-----------+------------+------------+------------+-----------------+-------+\n",
      "only showing top 20 rows\n",
      "\n"
     ]
    }
   ],
   "source": [
    "df \\\n",
    "    .withColumn('pickup_date', F.to_date(df.pickup_datetime)) \\\n",
    "    .withColumn('dropoff_date', F.to_date(df.dropoff_datetime)) \\\n",
    "    .withColumn('base_id', crazy_stuff_udf(df.dispatching_base_num)) \\\n",
    "    .select('pickup_date', 'dropoff_date', 'PULocationID','DOLocationID','hvfhs_license_num', 'base_id') \\\n",
    "    .show()"
   ]
  },
  {
   "cell_type": "code",
   "execution_count": null,
   "metadata": {},
   "outputs": [],
   "source": []
  }
 ],
 "metadata": {
  "kernelspec": {
   "display_name": "Python 3 (ipykernel)",
   "language": "python",
   "name": "python3"
  },
  "language_info": {
   "codemirror_mode": {
    "name": "ipython",
    "version": 3
   },
   "file_extension": ".py",
   "mimetype": "text/x-python",
   "name": "python",
   "nbconvert_exporter": "python",
   "pygments_lexer": "ipython3",
   "version": "3.11.6"
  }
 },
 "nbformat": 4,
 "nbformat_minor": 4
}
